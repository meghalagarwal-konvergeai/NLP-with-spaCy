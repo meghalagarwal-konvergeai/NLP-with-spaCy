{
 "cells": [
  {
   "cell_type": "markdown",
   "id": "dominant-durham",
   "metadata": {},
   "source": [
    "# Custom Components in spaCy"
   ]
  },
  {
   "cell_type": "markdown",
   "id": "referenced-complaint",
   "metadata": {},
   "source": [
    "<center>Dr. W.J.B. Mattingly</center>\n",
    "\n",
    "<center>Smithsonian Data Science Lab and United States Holocaust Memorial Museum</center>\n",
    "\n",
    "<center>August 2021</center>"
   ]
  },
  {
   "cell_type": "code",
   "execution_count": 1,
   "id": "listed-russian",
   "metadata": {},
   "outputs": [],
   "source": [
    "import spacy\n",
    "from spacy.language import Language"
   ]
  },
  {
   "cell_type": "code",
   "execution_count": 12,
   "id": "distant-ghost",
   "metadata": {},
   "outputs": [
    {
     "name": "stdout",
     "output_type": "stream",
     "text": [
      "Britain GPE\n"
     ]
    }
   ],
   "source": [
    "nlp = spacy.load(\"en_core_web_sm\")\n",
    "doc= nlp(\"Britain is a place. Mary is a good Docter\")\n",
    "\n",
    "for comp in doc.ents:\n",
    "    print(comp.text, comp.label_)"
   ]
  },
  {
   "cell_type": "code",
   "execution_count": 13,
   "id": "2bf3f435",
   "metadata": {},
   "outputs": [],
   "source": [
    "from spacy.language import Language"
   ]
  },
  {
   "cell_type": "markdown",
   "id": "6bf0f827",
   "metadata": {},
   "source": [
    "Now if the client wants to print everything except GPE then to remove and print the customed Entity is by creating customed function."
   ]
  },
  {
   "cell_type": "code",
   "execution_count": 14,
   "id": "34380aa1",
   "metadata": {},
   "outputs": [],
   "source": [
    "@Language.component(\"remove_gpe\")\n",
    "def remove_gpe(doc):\n",
    "    original = list(doc.ents)\n",
    "    for ent in doc.ents:\n",
    "        if ent.label_ == \"GPE\":\n",
    "            original.remove(ent)\n",
    "    doc.ents = original\n",
    "    return doc\n"
   ]
  },
  {
   "cell_type": "code",
   "execution_count": 15,
   "id": "ec8ad7f5",
   "metadata": {},
   "outputs": [
    {
     "data": {
      "text/plain": [
       "<function __main__.remove_gpe(doc)>"
      ]
     },
     "execution_count": 15,
     "metadata": {},
     "output_type": "execute_result"
    }
   ],
   "source": [
    "nlp.add_pipe(\"remove_gpe\")"
   ]
  },
  {
   "cell_type": "code",
   "execution_count": 18,
   "metadata": {},
   "outputs": [],
   "source": [
    "doc= nlp(\"Britain is a place. Mary is a good Docter\")\n",
    "\n",
    "for comp in doc.ents:\n",
    "    print(comp.text, comp.label_)"
   ]
  }
 ],
 "metadata": {
  "interpreter": {
   "hash": "916dbcbb3f70747c44a77c7bcd40155683ae19c65e1c03b4aa3499c5328201f1"
  },
  "kernelspec": {
   "display_name": "Python 3.8.10 64-bit",
   "language": "python",
   "name": "python3"
  },
  "language_info": {
   "codemirror_mode": {
    "name": "ipython",
    "version": 3
   },
   "file_extension": ".py",
   "mimetype": "text/x-python",
   "name": "python",
   "nbconvert_exporter": "python",
   "pygments_lexer": "ipython3",
   "version": "3.8.10"
  }
 },
 "nbformat": 4,
 "nbformat_minor": 5
}
