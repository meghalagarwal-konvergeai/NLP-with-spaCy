{
 "cells": [
  {
   "cell_type": "markdown",
   "id": "informal-pound",
   "metadata": {},
   "source": [
    "# <center>Word Vectors and spaCy</center>"
   ]
  },
  {
   "cell_type": "markdown",
   "id": "proved-exhibit",
   "metadata": {},
   "source": [
    "<center>Dr. W.J.B. Mattingly</center>\n",
    "\n",
    "<center>Smithsonian Data Science Lab and United States Holocaust Memorial Museum</center>\n",
    "\n",
    "<center>August 2021</center>"
   ]
  },
  {
   "cell_type": "markdown",
   "id": "valuable-accommodation",
   "metadata": {},
   "source": [
    "In this notebook is word vectors, or word embeddings. Because the English small model does not have these saved, we will be working with the next largest model, the English medium model, en_core_web_md. Let's import spaCy and download the medium model."
   ]
  },
  {
   "cell_type": "code",
   "execution_count": 5,
   "id": "elementary-ghost",
   "metadata": {},
   "outputs": [
    {
     "name": "stdout",
     "output_type": "stream",
     "text": [
      "2022-05-10 20:08:20.548139: W tensorflow/stream_executor/platform/default/dso_loader.cc:64] Could not load dynamic library 'libcudart.so.11.0'; dlerror: libcudart.so.11.0: cannot open shared object file: No such file or directory\n",
      "2022-05-10 20:08:20.548168: I tensorflow/stream_executor/cuda/cudart_stub.cc:29] Ignore above cudart dlerror if you do not have a GPU set up on your machine.\n",
      "Collecting en-core-web-md==3.3.0\n",
      "  Downloading https://github.com/explosion/spacy-models/releases/download/en_core_web_md-3.3.0/en_core_web_md-3.3.0-py3-none-any.whl (33.5 MB)\n",
      "\u001b[K     |████████████████████████████████| 33.5 MB 4.3 MB/s eta 0:00:01\n",
      "\u001b[?25hRequirement already satisfied: spacy<3.4.0,>=3.3.0.dev0 in /home/meghal/.local/lib/python3.8/site-packages (from en-core-web-md==3.3.0) (3.3.0)\n",
      "Requirement already satisfied: jinja2 in /home/meghal/.local/lib/python3.8/site-packages (from spacy<3.4.0,>=3.3.0.dev0->en-core-web-md==3.3.0) (2.10.3)\n",
      "Requirement already satisfied: srsly<3.0.0,>=2.4.3 in /home/meghal/.local/lib/python3.8/site-packages (from spacy<3.4.0,>=3.3.0.dev0->en-core-web-md==3.3.0) (2.4.3)\n",
      "Requirement already satisfied: spacy-loggers<2.0.0,>=1.0.0 in /home/meghal/.local/lib/python3.8/site-packages (from spacy<3.4.0,>=3.3.0.dev0->en-core-web-md==3.3.0) (1.0.2)\n",
      "Requirement already satisfied: pathy>=0.3.5 in /home/meghal/.local/lib/python3.8/site-packages (from spacy<3.4.0,>=3.3.0.dev0->en-core-web-md==3.3.0) (0.6.1)\n",
      "Requirement already satisfied: pydantic!=1.8,!=1.8.1,<1.9.0,>=1.7.4 in /home/meghal/.local/lib/python3.8/site-packages (from spacy<3.4.0,>=3.3.0.dev0->en-core-web-md==3.3.0) (1.8.2)\n",
      "Requirement already satisfied: wasabi<1.1.0,>=0.9.1 in /home/meghal/.local/lib/python3.8/site-packages (from spacy<3.4.0,>=3.3.0.dev0->en-core-web-md==3.3.0) (0.9.1)\n",
      "Requirement already satisfied: spacy-legacy<3.1.0,>=3.0.9 in /home/meghal/.local/lib/python3.8/site-packages (from spacy<3.4.0,>=3.3.0.dev0->en-core-web-md==3.3.0) (3.0.9)\n",
      "Requirement already satisfied: thinc<8.1.0,>=8.0.14 in /home/meghal/.local/lib/python3.8/site-packages (from spacy<3.4.0,>=3.3.0.dev0->en-core-web-md==3.3.0) (8.0.15)\n",
      "Requirement already satisfied: murmurhash<1.1.0,>=0.28.0 in /home/meghal/.local/lib/python3.8/site-packages (from spacy<3.4.0,>=3.3.0.dev0->en-core-web-md==3.3.0) (1.0.7)\n",
      "Requirement already satisfied: setuptools in /usr/lib/python3/dist-packages (from spacy<3.4.0,>=3.3.0.dev0->en-core-web-md==3.3.0) (45.2.0)\n",
      "Requirement already satisfied: packaging>=20.0 in /home/meghal/.local/lib/python3.8/site-packages (from spacy<3.4.0,>=3.3.0.dev0->en-core-web-md==3.3.0) (21.3)\n",
      "Requirement already satisfied: cymem<2.1.0,>=2.0.2 in /home/meghal/.local/lib/python3.8/site-packages (from spacy<3.4.0,>=3.3.0.dev0->en-core-web-md==3.3.0) (2.0.6)\n",
      "Requirement already satisfied: typer<0.5.0,>=0.3.0 in /home/meghal/.local/lib/python3.8/site-packages (from spacy<3.4.0,>=3.3.0.dev0->en-core-web-md==3.3.0) (0.4.1)\n",
      "Requirement already satisfied: catalogue<2.1.0,>=2.0.6 in /home/meghal/.local/lib/python3.8/site-packages (from spacy<3.4.0,>=3.3.0.dev0->en-core-web-md==3.3.0) (2.0.7)\n",
      "Requirement already satisfied: preshed<3.1.0,>=3.0.2 in /home/meghal/.local/lib/python3.8/site-packages (from spacy<3.4.0,>=3.3.0.dev0->en-core-web-md==3.3.0) (3.0.6)\n",
      "Requirement already satisfied: blis<0.8.0,>=0.4.0 in /home/meghal/.local/lib/python3.8/site-packages (from spacy<3.4.0,>=3.3.0.dev0->en-core-web-md==3.3.0) (0.7.7)\n",
      "Requirement already satisfied: tqdm<5.0.0,>=4.38.0 in /home/meghal/.local/lib/python3.8/site-packages (from spacy<3.4.0,>=3.3.0.dev0->en-core-web-md==3.3.0) (4.64.0)\n",
      "Requirement already satisfied: numpy>=1.15.0 in /home/meghal/.local/lib/python3.8/site-packages (from spacy<3.4.0,>=3.3.0.dev0->en-core-web-md==3.3.0) (1.22.3)\n",
      "Requirement already satisfied: requests<3.0.0,>=2.13.0 in /home/meghal/.local/lib/python3.8/site-packages (from spacy<3.4.0,>=3.3.0.dev0->en-core-web-md==3.3.0) (2.27.1)\n",
      "Requirement already satisfied: langcodes<4.0.0,>=3.2.0 in /home/meghal/.local/lib/python3.8/site-packages (from spacy<3.4.0,>=3.3.0.dev0->en-core-web-md==3.3.0) (3.3.0)\n",
      "Requirement already satisfied: MarkupSafe>=0.23 in /home/meghal/.local/lib/python3.8/site-packages (from jinja2->spacy<3.4.0,>=3.3.0.dev0->en-core-web-md==3.3.0) (1.1.1)\n",
      "Requirement already satisfied: smart-open<6.0.0,>=5.0.0 in /home/meghal/.local/lib/python3.8/site-packages (from pathy>=0.3.5->spacy<3.4.0,>=3.3.0.dev0->en-core-web-md==3.3.0) (5.2.1)\n",
      "Requirement already satisfied: typing-extensions>=3.7.4.3 in /home/meghal/.local/lib/python3.8/site-packages (from pydantic!=1.8,!=1.8.1,<1.9.0,>=1.7.4->spacy<3.4.0,>=3.3.0.dev0->en-core-web-md==3.3.0) (4.2.0)\n",
      "Requirement already satisfied: pyparsing!=3.0.5,>=2.0.2 in /home/meghal/.local/lib/python3.8/site-packages (from packaging>=20.0->spacy<3.4.0,>=3.3.0.dev0->en-core-web-md==3.3.0) (3.0.8)\n",
      "Requirement already satisfied: click<9.0.0,>=7.1.1 in /home/meghal/.local/lib/python3.8/site-packages (from typer<0.5.0,>=0.3.0->spacy<3.4.0,>=3.3.0.dev0->en-core-web-md==3.3.0) (8.1.3)\n",
      "Requirement already satisfied: urllib3<1.27,>=1.21.1 in /usr/lib/python3/dist-packages (from requests<3.0.0,>=2.13.0->spacy<3.4.0,>=3.3.0.dev0->en-core-web-md==3.3.0) (1.25.8)\n",
      "Requirement already satisfied: idna<4,>=2.5; python_version >= \"3\" in /usr/lib/python3/dist-packages (from requests<3.0.0,>=2.13.0->spacy<3.4.0,>=3.3.0.dev0->en-core-web-md==3.3.0) (2.8)\n",
      "Requirement already satisfied: charset-normalizer~=2.0.0; python_version >= \"3\" in /home/meghal/.local/lib/python3.8/site-packages (from requests<3.0.0,>=2.13.0->spacy<3.4.0,>=3.3.0.dev0->en-core-web-md==3.3.0) (2.0.12)\n",
      "Requirement already satisfied: certifi>=2017.4.17 in /usr/lib/python3/dist-packages (from requests<3.0.0,>=2.13.0->spacy<3.4.0,>=3.3.0.dev0->en-core-web-md==3.3.0) (2019.11.28)\n",
      "Installing collected packages: en-core-web-md\n",
      "Successfully installed en-core-web-md-3.3.0\n",
      "\u001b[38;5;2m✔ Download and installation successful\u001b[0m\n",
      "You can now load the package via spacy.load('en_core_web_md')\n"
     ]
    }
   ],
   "source": [
    "import spacy\n",
    "!python3 -m spacy download en_core_web_md"
   ]
  },
  {
   "cell_type": "code",
   "execution_count": 9,
   "id": "developmental-major",
   "metadata": {},
   "outputs": [
    {
     "name": "stdout",
     "output_type": "stream",
     "text": [
      "The United States of America (U.S.A. or USA), commonly known as the United States (U.S. or US) or America, is a country primarily located in North America.\n"
     ]
    }
   ],
   "source": [
    "nlp = spacy.load(\"en_core_web_md\")\n",
    "with open (\"/home/meghal/Personal/Konverge_AI/Training/NLP with SaCy/Data/wiki_us.txt\", \"r\") as f:\n",
    "    text = f.read()\n",
    "doc = nlp(text)\n",
    "sentence1 = list(doc.sents)[0]\n",
    "print(sentence1)"
   ]
  },
  {
   "cell_type": "markdown",
   "id": "lucky-exchange",
   "metadata": {},
   "source": [
    "## Word Vectors"
   ]
  },
  {
   "cell_type": "markdown",
   "id": "sought-forward",
   "metadata": {},
   "source": [
    "Word vectors, or word embeddings, are numerical representations of words in multidimensional space through matrices. The purpose of the word vector is to get a computer system to understand a word. Computers cannot understand text efficiently. They can, however, process numbers quickly and well. For this reason, it is important to convert a word into a number.\n",
    "\n",
    "Initial methods for creating word vectors in a pipeline take all words in a corpus and convert them into a single, unique number. These words are then stored in a dictionary that would look like this: {“the”: 1, “a”, 2} etc. This is known as a bag of words. This approach to representing words numerically, however, only allow a computer to understand words numerically to identify unique words. It does not, however, allow a computer to understand meaning.\n",
    "\n",
    "Imagine this scenario:\n",
    "\n",
    "Tom loves to eat chocolate.\n",
    "\n",
    "Tom likes to eat chocolate.\n",
    "\n",
    "These sentences represented as a numerical array (list) would look like this:\n",
    "\n",
    "1, 2, 3, 4, 5\n",
    "\n",
    "1, 6, 3, 4, 5\n",
    "\n",
    "As we can see, as humans both sentences are nearly identical. The only difference is the degree to which Tom appreciates eating chocolate. If we examine the numbers, however, these two sentences seem quite close, but their semantical meaning is impossible to know for certain. How similar is 2 to 6? The number 6 could represent “hates” as much as it could represent “likes”. This is where word vectors come in.\n",
    "\n",
    "Word vectors take these one dimensional bag of words and gives them multidimensional meaning by representing them in higher dimensional space, noted above. This is achieved through machine learning and can be easily achieved via Python libraries, such as Gensim, which we will explore more closely in the next notebook."
   ]
  },
  {
   "cell_type": "markdown",
   "id": "organizational-doubt",
   "metadata": {},
   "source": [
    "### Why use Word Vectors?"
   ]
  },
  {
   "cell_type": "markdown",
   "id": "close-stations",
   "metadata": {},
   "source": [
    "The goal of word vectors is to achieve numerical understanding of language so that a computer can perform more complex tasks on that corpus. Let’s consider the example above. How do we get a computer to understand 2 and 6 are synonyms or mean something similar? One option you might be thinking is to simply give the computer a synonym dictionary. It can look up synonyms and then know what words mean. This approach, on the surface, makes perfect sense, but let’s explore that option and see why it cannot possibly work.\n",
    "\n",
    "For the example below, we will be using the Python library PyDictionary which allows us to look up definitions and synonyms of words."
   ]
  },
  {
   "cell_type": "code",
   "execution_count": 10,
   "id": "fb5dfd3f",
   "metadata": {},
   "outputs": [
    {
     "name": "stdout",
     "output_type": "stream",
     "text": [
      "I like salty fries and hamburgers. <----> Fast Food tastes very good. 0.8015960629076846\n"
     ]
    }
   ],
   "source": [
    "document1 = nlp(\"I like salty fries and hamburgers.\")\n",
    "document2 = nlp(\"Fast Food tastes very good.\")\n",
    "print(document1, \"<---->\", document2, document1.similarity(document2))"
   ]
  },
  {
   "cell_type": "code",
   "execution_count": 11,
   "id": "fb01f99e",
   "metadata": {},
   "outputs": [
    {
     "name": "stdout",
     "output_type": "stream",
     "text": [
      "I like salty fries and hamburgers. <----> Fast Food tastes very good. 0.47528644290552713\n"
     ]
    }
   ],
   "source": [
    "document3 = nlp(\"The Emprire State Building is in New York\")\n",
    "print(document1, \"<---->\", document2, document1.similarity(document3))"
   ]
  },
  {
   "cell_type": "code",
   "execution_count": 14,
   "id": "incoming-beijing",
   "metadata": {},
   "outputs": [
    {
     "name": "stdout",
     "output_type": "stream",
     "text": [
      "Tom has no Synonyms in the API\n"
     ]
    },
    {
     "ename": "TypeError",
     "evalue": "'NoneType' object is not subscriptable",
     "output_type": "error",
     "traceback": [
      "\u001b[0;31m---------------------------------------------------------------------------\u001b[0m",
      "\u001b[0;31mTypeError\u001b[0m                                 Traceback (most recent call last)",
      "\u001b[0;32m<ipython-input-14-2fe432a3b47a>\u001b[0m in \u001b[0;36m<module>\u001b[0;34m\u001b[0m\n\u001b[1;32m      7\u001b[0m \u001b[0;32mfor\u001b[0m \u001b[0mword\u001b[0m \u001b[0;32min\u001b[0m \u001b[0mwords\u001b[0m\u001b[0;34m:\u001b[0m\u001b[0;34m\u001b[0m\u001b[0;34m\u001b[0m\u001b[0m\n\u001b[1;32m      8\u001b[0m     \u001b[0msyns\u001b[0m \u001b[0;34m=\u001b[0m \u001b[0mdictionary\u001b[0m\u001b[0;34m.\u001b[0m\u001b[0msynonym\u001b[0m\u001b[0;34m(\u001b[0m\u001b[0mword\u001b[0m\u001b[0;34m)\u001b[0m\u001b[0;34m\u001b[0m\u001b[0;34m\u001b[0m\u001b[0m\n\u001b[0;32m----> 9\u001b[0;31m     \u001b[0mprint\u001b[0m \u001b[0;34m(\u001b[0m\u001b[0;34mf\"{word}: {syns[0:5]}\\n\"\u001b[0m\u001b[0;34m)\u001b[0m\u001b[0;34m\u001b[0m\u001b[0;34m\u001b[0m\u001b[0m\n\u001b[0m",
      "\u001b[0;31mTypeError\u001b[0m: 'NoneType' object is not subscriptable"
     ]
    }
   ],
   "source": [
    "from PyDictionary import PyDictionary\n",
    "\n",
    "dictionary=PyDictionary()\n",
    "text = \"Tom loves to eat chocolate\"\n",
    "\n",
    "words = text.split()\n",
    "for word in words:\n",
    "    syns = dictionary.synonym(word)\n",
    "    print (f\"{word}: {syns[0:5]}\\n\")"
   ]
  },
  {
   "cell_type": "markdown",
   "id": "incident-degree",
   "metadata": {},
   "source": [
    "Even with the simple sentence, the results are comically bad. Why? The reason is because synonym substitution, a common method of data augmentation, does not take into account syntactical differences of synonyms. I do not believe anyone would think “Felis domesticus”, the Latin name of the common house cat, would be an adequite substitution for the name Tom. Nor is “garbage down” a really proper synonym for eat.\n",
    "\n",
    "Perhaps, then we could use synonyms to find words that have cross-terms, or terms that appear in both synonym sets."
   ]
  },
  {
   "cell_type": "code",
   "execution_count": 15,
   "id": "damaged-output",
   "metadata": {},
   "outputs": [
    {
     "name": "stdout",
     "output_type": "stream",
     "text": [
      "like has no Synonyms in the API\n"
     ]
    },
    {
     "ename": "TypeError",
     "evalue": "'NoneType' object is not subscriptable",
     "output_type": "error",
     "traceback": [
      "\u001b[0;31m---------------------------------------------------------------------------\u001b[0m",
      "\u001b[0;31mTypeError\u001b[0m                                 Traceback (most recent call last)",
      "\u001b[0;32m<ipython-input-15-fefd3418da3d>\u001b[0m in \u001b[0;36m<module>\u001b[0;34m\u001b[0m\n\u001b[1;32m      6\u001b[0m \u001b[0;32mfor\u001b[0m \u001b[0mword\u001b[0m \u001b[0;32min\u001b[0m \u001b[0mwords\u001b[0m\u001b[0;34m:\u001b[0m\u001b[0;34m\u001b[0m\u001b[0;34m\u001b[0m\u001b[0m\n\u001b[1;32m      7\u001b[0m     \u001b[0msyns\u001b[0m \u001b[0;34m=\u001b[0m \u001b[0mdictionary\u001b[0m\u001b[0;34m.\u001b[0m\u001b[0msynonym\u001b[0m\u001b[0;34m(\u001b[0m\u001b[0mword\u001b[0m\u001b[0;34m)\u001b[0m\u001b[0;34m\u001b[0m\u001b[0;34m\u001b[0m\u001b[0m\n\u001b[0;32m----> 8\u001b[0;31m     \u001b[0mprint\u001b[0m \u001b[0;34m(\u001b[0m\u001b[0;34mf\"{word}: {syns[0:5]}\\n\"\u001b[0m\u001b[0;34m)\u001b[0m\u001b[0;34m\u001b[0m\u001b[0;34m\u001b[0m\u001b[0m\n\u001b[0m",
      "\u001b[0;31mTypeError\u001b[0m: 'NoneType' object is not subscriptable"
     ]
    }
   ],
   "source": [
    "from PyDictionary import PyDictionary\n",
    "\n",
    "dictionary=PyDictionary()\n",
    "\n",
    "words  = [\"like\", \"love\"]\n",
    "for word in words:\n",
    "    syns = dictionary.synonym(word)\n",
    "    print (f\"{word}: {syns[0:5]}\\n\")"
   ]
  },
  {
   "cell_type": "markdown",
   "id": "alert-azerbaijan",
   "metadata": {},
   "source": [
    "This, as we can see, has some potential to work, but again it is not entirely reliable and to work with such a list would be computationally expensive. For both of these reasons, word vectors are prefered. The reason? Because they are formed by the computer on corpora for a specific task. Further, they are numerical in nature (not a dictionary of words), meaning the computer can process them more quickly."
   ]
  },
  {
   "cell_type": "markdown",
   "id": "analyzed-flexibility",
   "metadata": {},
   "source": [
    "###  What do Word Vectors Look Like?"
   ]
  },
  {
   "cell_type": "markdown",
   "id": "comic-cross",
   "metadata": {},
   "source": [
    "Word vectors have a preset number of dimensions. These dimensions are honed via machine learned. Models take into account word frequency alongside words across a corpus and the appearance of other words in similar contexts. This allows for the the computer to determine the syntactical similarity of words numerically. It then needs to represent these relationships numerically. It does this through the vector, or a matrix of matrices. To represent these more concisely, models flatten a matrix to a float (decimal number). The number of dimensions represent the number of floats in the matrix.\n",
    "\n",
    "Let's take a look at the first word in our sentence. Specifically, let's look at its vector."
   ]
  },
  {
   "cell_type": "code",
   "execution_count": 16,
   "id": "advance-porter",
   "metadata": {},
   "outputs": [
    {
     "data": {
      "text/plain": [
       "array([-6.5276e-01,  2.3873e-01, -2.3325e-01,  1.8608e-01,  3.7674e-01,\n",
       "       -5.4116e-02, -1.9189e-01,  2.2731e-01, -9.2528e-02,  1.8388e+00,\n",
       "       -1.8715e-01, -2.2237e-01,  3.1873e-01,  1.1472e-01,  3.8304e-01,\n",
       "        2.0092e-01, -2.7932e-01,  2.3462e+00, -3.9846e-01, -1.9525e-01,\n",
       "       -2.5649e-01,  2.5508e-01,  9.4618e-02, -4.1082e-01, -3.4191e-01,\n",
       "       -1.9499e-01,  1.7814e-01,  5.3463e-03, -4.7565e-01,  2.8022e-01,\n",
       "       -2.1920e-01,  6.0433e-01,  2.9309e-01, -2.4232e-01,  5.2700e-01,\n",
       "        3.9024e-01, -5.6955e-01,  3.7620e-01, -2.3126e-01, -2.9921e-01,\n",
       "        4.5643e-02,  1.4555e-01,  1.4231e-01,  1.0587e-01,  4.1210e-01,\n",
       "       -2.5261e-01, -3.2090e-02, -5.2830e-01, -2.6925e-02,  2.6227e-01,\n",
       "        1.6375e-01,  9.9259e-02,  3.1664e-01, -1.1040e-01,  2.5732e-01,\n",
       "       -4.0720e-01, -6.9903e-02, -1.3189e-01, -5.5753e-01, -1.4815e-01,\n",
       "       -3.3673e-01, -3.6122e-01,  2.1905e-02,  6.8589e-01, -8.0151e-02,\n",
       "       -1.2327e-01, -5.0595e-02, -1.3694e-01,  2.7306e-01, -1.4885e-01,\n",
       "        4.5150e-03,  1.6709e-01,  8.8148e-02, -1.7480e-01, -1.2441e-01,\n",
       "        5.6394e-02,  1.4228e-01,  3.6865e-01,  5.9486e-02, -1.9471e-01,\n",
       "       -2.5575e-01,  2.2853e-01, -8.2876e-03,  2.0285e-02,  4.2212e-01,\n",
       "        1.3516e-01,  7.2635e-01,  3.8426e-01,  1.9571e-01, -1.8199e-01,\n",
       "        3.6326e-01, -5.9009e-01,  1.2660e-01, -2.7157e-01, -4.0160e-01,\n",
       "       -6.2389e-01,  7.8656e-01,  2.8767e-01,  5.0652e-01,  9.7881e-02,\n",
       "       -1.4708e-02,  2.3946e-01, -1.8723e-01,  4.1445e-01,  1.6650e-01,\n",
       "       -1.8899e+00,  3.5874e-01, -2.9300e-02, -7.1390e-02,  7.2308e-02,\n",
       "        6.5537e-02, -1.5800e-01,  8.0230e-02, -3.0899e-02,  1.9015e-01,\n",
       "       -1.4525e-02,  9.2995e-03, -4.5801e-01, -5.1586e-02, -4.5419e-02,\n",
       "        3.9683e-01, -2.5542e-01,  2.4292e-01, -3.0690e-01, -2.4360e-01,\n",
       "       -2.7307e-01,  1.4416e-01, -9.6950e-03, -5.7948e-01, -2.2177e-01,\n",
       "        9.3387e-02, -3.0545e-01, -7.1946e-02,  2.3493e-01,  7.2558e-01,\n",
       "        5.4868e-02, -2.7755e-01,  1.6177e-01, -3.9068e-01, -2.3836e-02,\n",
       "       -3.8402e-01,  2.9663e-02, -7.9789e-01, -2.6405e-01,  5.8656e-02,\n",
       "        1.4091e-01,  3.0928e-01,  1.4004e-01,  1.3282e-02,  2.1340e-01,\n",
       "       -3.4682e-01,  3.5323e-01,  2.9809e-01,  9.6521e-02, -2.2186e-02,\n",
       "       -1.5502e-01, -7.5963e-02,  1.0163e+00, -2.0319e-01, -4.8089e-01,\n",
       "        1.8526e-03,  3.0310e-01, -3.0456e-01, -2.9545e-01, -1.1845e-02,\n",
       "       -1.5618e-01,  2.7693e-01,  3.1751e-01,  3.6650e-01, -3.9038e-01,\n",
       "        4.2004e-01, -3.2852e-01, -6.7994e-02, -1.4249e-01, -1.3815e-01,\n",
       "       -1.0507e-01, -1.7883e-01, -3.8480e-01,  3.2119e-01, -1.8403e-01,\n",
       "       -5.3652e-02, -2.0844e-02, -7.6724e-01, -1.1748e-01, -7.7480e-02,\n",
       "        4.5177e-01,  9.6727e-02, -2.0082e-01, -1.9445e-01, -9.7588e-03,\n",
       "        3.0302e-01, -3.3607e-01,  2.3825e-01, -3.6793e-02, -1.5106e-01,\n",
       "       -8.4877e-02, -1.7448e-01, -1.5700e-01, -6.5094e-01,  1.4706e-02,\n",
       "        4.4220e-01,  8.0152e-03, -3.4658e-01,  2.3566e-01,  1.5767e-01,\n",
       "       -1.6591e-01, -2.4740e-01, -3.3408e-01, -1.9722e-01,  2.2875e-02,\n",
       "       -1.4465e-01, -2.1910e-01, -9.2784e-02, -4.1141e-01,  2.7569e-01,\n",
       "       -5.2462e-02, -1.1711e-01,  2.3524e-01,  1.3615e-01,  2.0582e-01,\n",
       "        3.3483e-04, -3.5967e-02, -4.2995e-01, -3.1407e-01,  2.7588e-01,\n",
       "       -2.0524e-01, -1.7360e-01, -8.1571e-02,  3.2323e-01,  2.3840e-01,\n",
       "        1.2790e-01, -4.0717e-01,  5.8714e-01,  3.2730e-01,  1.7860e-02,\n",
       "        1.1729e-01, -4.7061e-02, -7.8453e-02,  1.4081e-01, -1.5994e-01,\n",
       "       -1.4909e-01,  7.1805e-02, -3.7698e-02,  4.4769e-01,  1.6152e-01,\n",
       "       -8.2816e-02, -1.1207e-01, -3.8554e-02, -1.0233e-01,  6.8006e-02,\n",
       "        1.6570e-01, -1.8337e-01,  3.8589e-01,  5.7057e-03, -1.4620e-01,\n",
       "        1.2894e+00,  3.4140e-01,  1.6715e-01,  4.2835e-01, -1.0456e-01,\n",
       "       -3.0015e-01, -2.4827e-02,  2.5433e-01,  1.8072e-01,  2.6348e-01,\n",
       "       -6.7580e-02,  1.7232e-01, -7.1153e-02,  1.7512e-01, -2.7813e-02,\n",
       "        6.4046e-01, -2.7157e-01, -9.4352e-02, -2.2393e-01,  8.9257e-03,\n",
       "       -3.7729e-01, -4.0433e-02,  1.1951e-01, -2.2956e-01,  3.5904e-01,\n",
       "        4.1923e-02,  5.3552e-02, -1.4838e-01,  5.5642e-01, -1.1883e-01,\n",
       "        1.1237e-01,  3.3574e-04, -1.5964e-01,  1.9147e-01,  1.1882e-01,\n",
       "       -2.8518e-01, -7.7427e-02,  2.2063e-01, -2.9288e-01, -5.9751e-01,\n",
       "       -1.6613e-02, -2.1909e-02, -4.2636e-01,  4.8578e-01, -2.8969e-01],\n",
       "      dtype=float32)"
      ]
     },
     "execution_count": 16,
     "metadata": {},
     "output_type": "execute_result"
    }
   ],
   "source": [
    "sentence1[0].vector"
   ]
  },
  {
   "cell_type": "markdown",
   "id": "representative-intent",
   "metadata": {},
   "source": [
    "### Why use Word Vectors?"
   ]
  },
  {
   "cell_type": "markdown",
   "id": "accomplished-pathology",
   "metadata": {},
   "source": [
    "Once a word vector model is trained, we can do similarity matches very quickly and very reliably. Let's explore some vectors from our medium sized model. Let's specifically try and find the words most closely related to the word dog."
   ]
  },
  {
   "cell_type": "code",
   "execution_count": 18,
   "id": "thermal-horse",
   "metadata": {},
   "outputs": [
    {
     "name": "stdout",
     "output_type": "stream",
     "text": [
      "['puppies', 'PUPPIES', 'CHINCHILLA', 'BREED', 'Breed', 'cattery', 'Poodles', 'CHINCHILLAS', 'POODLES', 'BREEDS']\n"
     ]
    }
   ],
   "source": [
    "#https://stackoverflow.com/questions/54717449/mapping-word-vector-to-the-most-similar-closest-word-using-spacy\n",
    "import numpy as np\n",
    "your_word = \"dog\"\n",
    "\n",
    "ms = nlp.vocab.vectors.most_similar(\n",
    "    np.asarray([nlp.vocab.vectors[nlp.vocab.strings[your_word]]]), n=10)\n",
    "words = [nlp.vocab.strings[w] for w in ms[0][0]]\n",
    "distances = ms[2]\n",
    "print(words)"
   ]
  },
  {
   "cell_type": "markdown",
   "id": "accessory-framework",
   "metadata": {},
   "source": [
    "## Doc Similarity"
   ]
  },
  {
   "cell_type": "markdown",
   "id": "micro-virus",
   "metadata": {},
   "source": [
    "In spaCy we can do this same thing at the document level. Through word vectors we can calculate the similarity between two documents. Let's look at the example from spaCy's documentation."
   ]
  },
  {
   "cell_type": "code",
   "execution_count": 19,
   "id": "entire-anthony",
   "metadata": {},
   "outputs": [
    {
     "name": "stdout",
     "output_type": "stream",
     "text": [
      "I like salty fries and hamburgers. <-> Fast food tastes very good. 0.8015960629076846\n"
     ]
    }
   ],
   "source": [
    "nlp = spacy.load(\"en_core_web_md\")  # make sure to use larger package!\n",
    "doc1 = nlp(\"I like salty fries and hamburgers.\")\n",
    "doc2 = nlp(\"Fast food tastes very good.\")\n",
    "\n",
    "# Similarity of two documents\n",
    "print(doc1, \"<->\", doc2, doc1.similarity(doc2))"
   ]
  },
  {
   "cell_type": "markdown",
   "id": "serious-button",
   "metadata": {},
   "source": [
    "## Word Similarity"
   ]
  },
  {
   "cell_type": "markdown",
   "id": "challenging-patrol",
   "metadata": {},
   "source": [
    "We can also calculate the similarity between two given words."
   ]
  },
  {
   "cell_type": "code",
   "execution_count": 20,
   "id": "guided-spirituality",
   "metadata": {},
   "outputs": [
    {
     "name": "stdout",
     "output_type": "stream",
     "text": [
      "salty fries <-> hamburgers 0.5733411312103271\n"
     ]
    }
   ],
   "source": [
    "# Similarity of tokens and spans\n",
    "french_fries = doc1[2:4]\n",
    "burgers = doc1[5]\n",
    "print(french_fries, \"<->\", burgers, french_fries.similarity(burgers))"
   ]
  },
  {
   "cell_type": "markdown",
   "id": "residential-metadata",
   "metadata": {},
   "source": [
    "## Conclusion"
   ]
  },
  {
   "cell_type": "markdown",
   "id": "overall-alpha",
   "metadata": {},
   "source": [
    "As we have seen in this notebook, spaCy is made up of a series of complex P"
   ]
  }
 ],
 "metadata": {
  "interpreter": {
   "hash": "916dbcbb3f70747c44a77c7bcd40155683ae19c65e1c03b4aa3499c5328201f1"
  },
  "kernelspec": {
   "display_name": "Python 3.8.10 64-bit",
   "language": "python",
   "name": "python3"
  },
  "language_info": {
   "codemirror_mode": {
    "name": "ipython",
    "version": 3
   },
   "file_extension": ".py",
   "mimetype": "text/x-python",
   "name": "python",
   "nbconvert_exporter": "python",
   "pygments_lexer": "ipython3",
   "version": "3.8.10"
  }
 },
 "nbformat": 4,
 "nbformat_minor": 5
}
